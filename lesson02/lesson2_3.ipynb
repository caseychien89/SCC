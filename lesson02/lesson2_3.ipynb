{
 "cells": [
  {
   "cell_type": "markdown",
   "id": "58030d76",
   "metadata": {},
   "source": [
    "了解內建class(類別)\n",
    "了解instance(實體)"
   ]
  },
  {
   "cell_type": "code",
   "execution_count": 6,
   "id": "b54e1498",
   "metadata": {},
   "outputs": [
    {
     "data": {
      "text/plain": [
       "[100, 101, 102]"
      ]
     },
     "execution_count": 6,
     "metadata": {},
     "output_type": "execute_result"
    }
   ],
   "source": [
    "#建立list()\n",
    "mylist:list=list()#建立空的list\n",
    "#呼叫實體方法append() \n",
    "mylist.append(100)\n",
    "mylist.append(101)\n",
    "mylist.append(102)\n",
    "mylist\n"
   ]
  }
 ],
 "metadata": {
  "kernelspec": {
   "display_name": ".venv",
   "language": "python",
   "name": "python3"
  },
  "language_info": {
   "codemirror_mode": {
    "name": "ipython",
    "version": 3
   },
   "file_extension": ".py",
   "mimetype": "text/x-python",
   "name": "python",
   "nbconvert_exporter": "python",
   "pygments_lexer": "ipython3",
   "version": "3.13.2"
  }
 },
 "nbformat": 4,
 "nbformat_minor": 5
}
